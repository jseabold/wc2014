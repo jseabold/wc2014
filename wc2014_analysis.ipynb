{
 "metadata": {
  "name": "",
  "signature": "sha256:9e2853780c68e4b5b14dfbb822506ba75b7de85ebcd205bfd9d70fe427d0f64e"
 },
 "nbformat": 3,
 "nbformat_minor": 0,
 "worksheets": [
  {
   "cells": [
    {
     "cell_type": "code",
     "collapsed": false,
     "input": [
      "style = \"\"\"<style>\n",
      "table.dataframe { border: 0px; }\n",
      ".dataframe td { text-align: center; border: 0px} \n",
      ".dataframe th { text-align: center; border: 0px } \n",
      ".dataframe tbody>tr { margins : 0px; border-bottom: 0px; border-left: 0px; border-right: 0px; border-top: 0px}\n",
      "tr:nth-child(even) {\n",
      "  background-color: #ffffff;\n",
      "  }\n",
      "tr:nth-child(odd) {\n",
      "  background-color: #e8edff;\n",
      "}\n",
      ".dataframe thead>tr {background-color: #ffffff; border-left: 0px; border-right: 0px; border-top: 0px; border-bottom: 2px solid}\n",
      ".dataframe thead>th {border: 0px }\n",
      "</style>\"\"\""
     ],
     "language": "python",
     "metadata": {},
     "outputs": []
    },
    {
     "cell_type": "code",
     "collapsed": false,
     "input": [
      "from IPython.display import HTML\n",
      "input_form = \"\"\"Click to toogle inputs view:\n",
      "<input type=\"button\" class=\"ui-button ui-widget ui-state-default ui-corner-all ui-button-text-only\" value=\"Show\" id=\"onoff\" onclick=\"onoff();\">\n",
      "\"\"\"\n",
      "javascript = \"\"\"\n",
      "<script type=\"text/javascript\">\n",
      "    on = \"Show\";\n",
      "    off = \"Hide\"\n",
      "    function onoff(){\n",
      "      currentvalue = document.getElementById('onoff').value;\n",
      "      if(currentvalue == off){\n",
      "        document.getElementById(\"onoff\").value=on;\n",
      "          $('div.input').hide();\n",
      "      }else{\n",
      "        document.getElementById(\"onoff\").value=off;\n",
      "          $('div.input').show();\n",
      "      }\n",
      "}\n",
      "</script>\n",
      "\"\"\"\n",
      "HTML(input_form + javascript)"
     ],
     "language": "python",
     "metadata": {},
     "outputs": []
    },
    {
     "cell_type": "code",
     "collapsed": false,
     "input": [
      "import pandas as pd\n",
      "import matplotlib as pyplot\n",
      "import seaborn.apionly as seaborn"
     ],
     "language": "python",
     "metadata": {},
     "outputs": []
    },
    {
     "cell_type": "code",
     "collapsed": false,
     "input": [
      "from IPython import display"
     ],
     "language": "python",
     "metadata": {},
     "outputs": []
    },
    {
     "cell_type": "code",
     "collapsed": false,
     "input": [
      "seaborn.set_style('dark')"
     ],
     "language": "python",
     "metadata": {},
     "outputs": []
    },
    {
     "cell_type": "code",
     "collapsed": false,
     "input": [
      "from collections import OrderedDict\n",
      "from itertools import chain\n",
      "\n",
      "groups = OrderedDict((\n",
      "          ('A', ['Brazil', 'Croatia', 'Mexico', 'Cameroon']),\n",
      "          ('B', ['Spain', 'Netherlands', 'Chile', 'Australia']),\n",
      "          ('C', ['Colombia', 'Greece', 'Ivory Coast', 'Japan']),\n",
      "          ('D', ['Uruguay', 'Costa Rica', 'England', 'Italy']),\n",
      "          ('E', ['Switzerland', 'Ecuador', 'France', 'Honduras']),\n",
      "          ('F', ['Argentina', 'Bosnia-Herzegovina', 'Iran', 'Nigeria']),\n",
      "          ('G', ['Germany', 'Portugal', 'Ghana', 'United States']),\n",
      "          ('H', ['Belgium', 'Algeria', 'Russia', 'South Korea'])))\n",
      "all_teams = list(chain(*groups.values()))"
     ],
     "language": "python",
     "metadata": {},
     "outputs": []
    },
    {
     "cell_type": "markdown",
     "metadata": {},
     "source": [
      "<style type=\"text/css\" scoped>\n",
      "table.dataframe { border: 0px; }\n",
      ".dataframe td { text-align: center; border: 0px} \n",
      ".dataframe th { text-align: center; border: 0px } \n",
      ".dataframe tbody>tr { margins : 0px; border-bottom: 0px; border-left: 0px; border-right: 0px; border-top: 0px}\n",
      "tr:nth-child(even) {\n",
      "    background-color: #ffffff;\n",
      "    }\n",
      "tr:nth-child(odd) {\n",
      "    background-color: #e8edff;\n",
      "}\n",
      ".dataframe thead>tr {background-color: #ffffff; border-left: 0px; border-right: 0px; border-top: 0px; border-bottom: 2px solid}\n",
      ".dataframe thead>th {border: 0px }\n",
      "</style>"
     ]
    },
    {
     "cell_type": "code",
     "collapsed": false,
     "input": [
      "dta = pd.read_csv('wc2014data.csv', encoding='utf-8')\n",
      "dta = dta.dropna(subset=['team'])  # drop problematic empty brackets"
     ],
     "language": "python",
     "metadata": {},
     "outputs": []
    },
    {
     "cell_type": "code",
     "collapsed": false,
     "input": [
      "def get_pct(dta, rnd):\n",
      "    teams = dta.ix[dta.round.isin([rnd])].groupby('team').size()\n",
      "    #teams = teams.reindex(all_teams) # show the 0% ones too\n",
      "    #teams.fillna(0, inplace=True)\n",
      "    teams.sort(ascending=False)\n",
      "    frame = teams.to_frame().rename(columns={0 : 'Brackets Picked'})\n",
      "    frame['Brackets Picked'] = frame['Brackets Picked'].astype(int)\n",
      "    display.display_html(frame.to_html(), raw=True)\n",
      "    teams_pct = teams / len(dta.bracket_name.unique())\n",
      "    return teams_pct"
     ],
     "language": "python",
     "metadata": {},
     "outputs": []
    },
    {
     "cell_type": "code",
     "collapsed": false,
     "input": [
      "def plot_hist(pct, title, rot=90):\n",
      "    bar_plot = (pct*100).plot(kind='bar', figsize=(9,7))\n",
      "    bar_plot.set_ylabel('% Chosen', fontdict=dict(size=15))\n",
      "    bar_plot.set_title(title, fontdict=dict(size=15));\n",
      "    for tick in bar_plot.xaxis.get_major_ticks():\n",
      "        tick.label.set_fontsize(14)\n",
      "        tick.label.set_rotation(rot)"
     ],
     "language": "python",
     "metadata": {},
     "outputs": []
    },
    {
     "cell_type": "markdown",
     "metadata": {},
     "source": [
      "## Total Brackets"
     ]
    },
    {
     "cell_type": "markdown",
     "metadata": {},
     "source": [
      "We ended up with 54 total submitted brackets"
     ]
    },
    {
     "cell_type": "markdown",
     "metadata": {},
     "source": [
      "## Second Round Analysis"
     ]
    },
    {
     "cell_type": "markdown",
     "metadata": {},
     "source": [
      "### Full Group Stage Outcomes"
     ]
    },
    {
     "cell_type": "markdown",
     "metadata": {},
     "source": [
      "This is just the teams picked to advance. There's no indication of rank here."
     ]
    },
    {
     "cell_type": "code",
     "collapsed": false,
     "input": [
      "dta['group'] = dta.seed.str.extract('(\\w)\\d')\n",
      "pd.set_option('float_format', lambda x : '{:.2f}'.format(x))\n",
      "\n",
      "for group, countries in groups.iteritems():\n",
      "    group_picks = dta.ix[dta.round.isin(['second'])].groupby('group').get_group(group)\n",
      "    group_df = group_picks.groupby('team').size()/54.\n",
      "    # makes sure all teams are in if not picked\n",
      "    group_df = group_df.reindex(countries)\n",
      "    group_df.fillna(0, inplace=True)\n",
      "    group_df.sort(ascending=False)\n",
      "    group_df = group_df.to_frame()\n",
      "    group_df.rename(columns={0 : '% to Advance'.format(group)}, \n",
      "                    inplace=True)\n",
      "    display.display_html(\"<h3 style=\\\"padding-left:225px\\\">Group {}</h3>\".format(group), raw=True)\n",
      "    display.display_html(style + (group_df * 100).to_html(col_space=\"250px\", \n",
      "                                                          escape=False), \n",
      "                         raw=True)\n",
      "    print"
     ],
     "language": "python",
     "metadata": {},
     "outputs": []
    },
    {
     "cell_type": "markdown",
     "metadata": {},
     "source": [
      "### Number of Brackets Picking Teams for the 2nd Round"
     ]
    },
    {
     "cell_type": "code",
     "collapsed": false,
     "input": [
      "second_pct = get_pct(dta, 'second')"
     ],
     "language": "python",
     "metadata": {},
     "outputs": []
    },
    {
     "cell_type": "markdown",
     "metadata": {},
     "source": [
      "### Percentage of Brackets Picking Teams for the 2nd Round"
     ]
    },
    {
     "cell_type": "code",
     "collapsed": false,
     "input": [
      "plot_hist(second_pct, 'Second Round', 90)"
     ],
     "language": "python",
     "metadata": {},
     "outputs": []
    },
    {
     "cell_type": "markdown",
     "metadata": {},
     "source": [
      "## Quarterfinal Stats"
     ]
    },
    {
     "cell_type": "markdown",
     "metadata": {},
     "source": [
      "### Number of Brackets Picking Team for the Quarterfinals"
     ]
    },
    {
     "cell_type": "code",
     "collapsed": false,
     "input": [
      "quarters_pct = get_pct(dta, 'quarters')"
     ],
     "language": "python",
     "metadata": {},
     "outputs": []
    },
    {
     "cell_type": "markdown",
     "metadata": {},
     "source": [
      "### Percentage of Brackets Picking Team for the Quarterfinals"
     ]
    },
    {
     "cell_type": "code",
     "collapsed": false,
     "input": [
      "plot_hist(quarters_pct, 'Quarterfinals')"
     ],
     "language": "python",
     "metadata": {},
     "outputs": []
    },
    {
     "cell_type": "markdown",
     "metadata": {},
     "source": [
      "## Semifinals Stats"
     ]
    },
    {
     "cell_type": "markdown",
     "metadata": {},
     "source": [
      "### Number of Brackets Picking Team for the Semifinals"
     ]
    },
    {
     "cell_type": "code",
     "collapsed": false,
     "input": [
      "semis_pct = get_pct(dta, 'semis')"
     ],
     "language": "python",
     "metadata": {},
     "outputs": []
    },
    {
     "cell_type": "markdown",
     "metadata": {},
     "source": [
      "### Percentage of Brackets Picking Team for the Semifinals"
     ]
    },
    {
     "cell_type": "code",
     "collapsed": false,
     "input": [
      "plot_hist(semis_pct, 'Semifinals', 45)"
     ],
     "language": "python",
     "metadata": {},
     "outputs": []
    },
    {
     "cell_type": "markdown",
     "metadata": {},
     "source": [
      "## Finals Stats"
     ]
    },
    {
     "cell_type": "markdown",
     "metadata": {},
     "source": [
      "### Number of Brackets Picking Team for the Finals"
     ]
    },
    {
     "cell_type": "code",
     "collapsed": false,
     "input": [
      "finals_pct = get_pct(dta, 'final')"
     ],
     "language": "python",
     "metadata": {},
     "outputs": []
    },
    {
     "cell_type": "markdown",
     "metadata": {},
     "source": [
      "### Percentage of Brackets Picking Team for the Semifinals"
     ]
    },
    {
     "cell_type": "code",
     "collapsed": false,
     "input": [
      "plot_hist(finals_pct, 'Final', 45)"
     ],
     "language": "python",
     "metadata": {},
     "outputs": []
    },
    {
     "cell_type": "markdown",
     "metadata": {},
     "source": [
      "## Final Match-ups"
     ]
    },
    {
     "cell_type": "markdown",
     "metadata": {},
     "source": [
      "### Number of Brackets Picking Team for the Finals"
     ]
    },
    {
     "cell_type": "code",
     "collapsed": false,
     "input": [
      "final_matchups = dta.groupby('round').get_group('final').groupby('bracket_name').team.apply(lambda x : ' v '.join(x))\n",
      "final_matchups = final_matchups.reset_index(drop=True).to_frame().groupby('team').size()\n",
      "final_matchups.sort(ascending=False)\n",
      "final_matchups.name = 'Number of Picks'\n",
      "final_matchups.to_frame()"
     ],
     "language": "python",
     "metadata": {},
     "outputs": []
    },
    {
     "cell_type": "markdown",
     "metadata": {},
     "source": [
      "### Percentage of Brackets Picking Team for the Finals"
     ]
    },
    {
     "cell_type": "code",
     "collapsed": false,
     "input": [
      "final_matchups_pct = final_matchups / final_matchups.sum()\n",
      "plot_hist(final_matchups_pct, 'Final', 90)"
     ],
     "language": "python",
     "metadata": {},
     "outputs": []
    },
    {
     "cell_type": "markdown",
     "metadata": {},
     "source": [
      "## Winner Stats"
     ]
    },
    {
     "cell_type": "markdown",
     "metadata": {},
     "source": [
      "### Number of Brackets Picking Champion"
     ]
    },
    {
     "cell_type": "code",
     "collapsed": false,
     "input": [
      "champions_pct = get_pct(dta, 'champion')"
     ],
     "language": "python",
     "metadata": {},
     "outputs": []
    },
    {
     "cell_type": "markdown",
     "metadata": {},
     "source": [
      "### Percentage of Brackets Picking Champion"
     ]
    },
    {
     "cell_type": "code",
     "collapsed": false,
     "input": [
      "plot_hist(champions_pct, 'Champions', 45)"
     ],
     "language": "python",
     "metadata": {},
     "outputs": []
    }
   ],
   "metadata": {}
  }
 ]
}